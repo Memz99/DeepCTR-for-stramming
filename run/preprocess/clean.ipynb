{
 "cells": [
  {
   "cell_type": "code",
   "execution_count": 13,
   "id": "76851d1e-eba9-4510-b976-53112d733f43",
   "metadata": {},
   "outputs": [],
   "source": [
    "import os\n",
    "import numpy as np\n",
    "import pandas as pd\n",
    "root = \"/home/hemingzhi/.jupyter/ctr\"\n",
    "table = \"xtr_base\"\n",
    "date = \"20210528\"\n",
    "file = os.path.join(root, \"data\", table, date)"
   ]
  },
  {
   "cell_type": "markdown",
   "id": "a4b45ccb-8f1b-4252-b8c9-4fa14f0a53fb",
   "metadata": {},
   "source": [
    "# 1. 看特征的缺失情况\n",
    "先用 head -n 200000 [file] > test，抽样观察。不要用完整数据"
   ]
  },
  {
   "cell_type": "code",
   "execution_count": 4,
   "id": "5d475e88-4d62-4bac-ac7b-c4af691ddf60",
   "metadata": {},
   "outputs": [
    {
     "name": "stdout",
     "output_type": "stream",
     "text": [
      "keyword                        EXIST:1.0\n",
      "item_id                        EXIST:1.0\n",
      "show_cnt                       EXIST:1.0\n",
      "click_cnt                      EXIST:1.0\n",
      "play_cnt                       EXIST:1.0\n",
      "like_cnt                       EXIST:1.0\n",
      "follow_cnt                     EXIST:1.0\n",
      "long_view_cnt                  EXIST:1.0\n",
      "short_view_cnt                 EXIST:1.0\n",
      "first_click_cnt                EXIST:1.0\n",
      "last_click_cnt                 EXIST:1.0\n",
      "first_view_long_cnt            EXIST:1.0\n",
      "last_view_long_cnt             EXIST:1.0\n",
      "slide_show                     EXIST:1.0\n",
      "slide_click                    EXIST:1.0\n",
      "pv                             EXIST:1.0\n",
      "now_show_cnt                   EXIST:0.9822549112745563\n",
      "now_click_cnt                  EXIST:0.9822549112745563\n",
      "query_embed                    EXIST:0.4322371611858059\n",
      "photo_embed                    EXIST:0.42378211891059453\n",
      "qp_doc_cqr_v2                  EXIST:0.4130870654353272\n",
      "qp_doc_mixture_bwei            EXIST:0.41552707763538815\n",
      "qp_doc_video_bwei              EXIST:0.41552707763538815\n",
      "qp_doc_username_bwei           EXIST:0.41552707763538815\n",
      "qp_doc_bow_embedding_score     EXIST:0.41549707748538744\n",
      "qp_doc_omit_score              EXIST:0.41552707763538815\n",
      "qp_doc_mixture_omit            EXIST:0.41530207651038253\n"
     ]
    }
   ],
   "source": [
    "data = pd.read_csv(os.path.join(root, \"data\", table, \"test\"), sep='\\t')\n",
    "n = len(data)\n",
    "cols = []\n",
    "for fname in data.columns:\n",
    "    k = len(data[fname][~data[fname].isna()])\n",
    "#     if k / n >= 0.80:\n",
    "    print(f\"{fname:30} EXIST:{k/n}\")\n",
    "#         cols.append(fname)\n",
    "# print('\\n'.join([f\"    , {c}\" for c in cols]))\n",
    "# print('\\n'.join([f\"    , SUM({c}) AS {c}\" for c in cols]))"
   ]
  },
  {
   "cell_type": "markdown",
   "id": "dd67ec98-a538-4dab-ae17-b186efc6c8eb",
   "metadata": {},
   "source": [
    "# 2. 筛去缺失的特征"
   ]
  },
  {
   "cell_type": "code",
   "execution_count": 14,
   "id": "292afbec-91de-4cfd-aeb6-d2f48d6565cf",
   "metadata": {},
   "outputs": [
    {
     "name": "stderr",
     "output_type": "stream",
     "text": [
      "30000000it [05:24, 92323.58it/s] \n"
     ]
    }
   ],
   "source": [
    "import time\n",
    "from tqdm import tqdm\n",
    "start = time.time()\n",
    "\n",
    "f = open(file, 'r', encoding='utf-8')\n",
    "ff = open(file + \"_filtered\", 'w', encoding='utf-8')\n",
    "columns = f.readline()\n",
    "ff.write(columns)\n",
    "for line in tqdm(f):\n",
    "    feats = line.strip().split('\\t')\n",
    "    if \"NULL\" in feats:\n",
    "        continue\n",
    "    else:\n",
    "        ff.write(line)\n",
    "f.close()\n",
    "ff.close()"
   ]
  }
 ],
 "metadata": {
  "kernelspec": {
   "display_name": "python3.6_cuda",
   "language": "python",
   "name": "python3.6_cuda"
  },
  "language_info": {
   "codemirror_mode": {
    "name": "ipython",
    "version": 3
   },
   "file_extension": ".py",
   "mimetype": "text/x-python",
   "name": "python",
   "nbconvert_exporter": "python",
   "pygments_lexer": "ipython3",
   "version": "3.6.8"
  }
 },
 "nbformat": 4,
 "nbformat_minor": 5
}

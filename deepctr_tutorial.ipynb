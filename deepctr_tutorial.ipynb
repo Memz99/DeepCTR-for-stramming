{
 "cells": [
  {
   "cell_type": "code",
   "execution_count": 47,
   "metadata": {},
   "outputs": [],
   "source": [
    "import pandas as pd\n",
    "import torch\n",
    "from sklearn.metrics import log_loss, roc_auc_score\n",
    "from sklearn.model_selection import train_test_split\n",
    "from sklearn.preprocessing import LabelEncoder, MinMaxScaler\n",
    "\n",
    "from deepctr_torch.inputs import SparseFeat, DenseFeat, get_feature_names\n",
    "from deepctr_torch.models import *"
   ]
  },
  {
   "cell_type": "code",
   "execution_count": 11,
   "metadata": {},
   "outputs": [],
   "source": [
    "# modify data"
   ]
  },
  {
   "cell_type": "code",
   "execution_count": 35,
   "metadata": {},
   "outputs": [],
   "source": [
    "# load  data\n",
    "import pandas as pd\n",
    "# users\n",
    "\n",
    "# items\n",
    "sparse_features = [\"keyword\", \"item_id\", 'product', 'period', 'dtype', 'p_date']\n",
    "dense_features = [\"show_cnt\", 'click_cnt', 'play_cnt', 'like_cnt',\n",
    "       'follow_cnt', 'long_view_cnt', 'short_view_cnt', 'first_click_cnt',\n",
    "       'last_click_cnt', 'first_view_long_cnt', 'last_view_long_cnt',\n",
    "       'skip_cnt', 'exam_cnt', 'slide_show', 'slide_click']\n",
    "qp = pd.read_csv(\"data/qp\", sep=\"\\t\")\n",
    "qp[sparse_feature].fillna(-1,)\n",
    "qp[dense_feature].fillna(0,)\n",
    "qp[sparse_feature]\n",
    "\n",
    "# label\n",
    "def get_xtr(x):\n",
    "    if x[\"long_view_cnt\"] > 0:\n",
    "        return 1\n",
    "    return 0\n",
    "qp['has_long_view'] = qp.apply(get_xtr, axis=1)\n",
    "data = qp\n",
    "# rawdf = pd.read_csv(\"data/raw\")"
   ]
  },
  {
   "cell_type": "code",
   "execution_count": 36,
   "metadata": {},
   "outputs": [],
   "source": [
    "# preprocessing\n",
    "for feat in sparse_features:\n",
    "    lbe = LabelEncoder() # 相当于制作词表. fit_transform(word)->idx, inverse_transform(idx)->word\n",
    "    data[feat] = lbe.fit_transform(data[feat])\n",
    "\n",
    "mms = MinMaxScaler(feature_range=(0,1))\n",
    "data[dense_features] = mms.fit_transform(data[dense_features])"
   ]
  },
  {
   "cell_type": "code",
   "execution_count": 40,
   "metadata": {},
   "outputs": [],
   "source": [
    "# Generate feature column\n",
    "target = ['has_long_view']\n",
    "\n",
    "sparse_feature_columns = [SparseFeat(feat, vocabulary_size=data[feat].nunique(),embedding_dim=4)\n",
    "                       for i,feat in enumerate(sparse_features)]\n",
    "\n",
    "dense_feature_columns = [DenseFeat(feat, 1, )\n",
    "                          for feat in dense_features]\n",
    "\n",
    "deep_feature_columns = sparse_feature_columns + dense_feature_columns\n",
    "wide_feature_columns = sparse_feature_columns\n",
    "\n",
    "feature_names = get_feature_names(deep_feature_columns + wide_feature_columns)"
   ]
  },
  {
   "cell_type": "code",
   "execution_count": 43,
   "metadata": {},
   "outputs": [],
   "source": [
    "# 3.generate input data for model\n",
    "train, test = train_test_split(data, test_size=0.2)\n",
    "\n",
    "train_model_input = {name: train[name] for name in feature_names}\n",
    "test_model_input = {name: test[name] for name in feature_names}"
   ]
  },
  {
   "cell_type": "code",
   "execution_count": 50,
   "metadata": {},
   "outputs": [
    {
     "name": "stdout",
     "output_type": "stream",
     "text": [
      "cpu\n",
      "Train on 786 samples, validate on 0 samples, 25 steps per epoch\n",
      "Epoch 1/10\n",
      "1s - loss:  0.6568 - binary_crossentropy:  0.6560 - auc:  0.9132\n",
      "Epoch 2/10\n",
      "1s - loss:  0.6152 - binary_crossentropy:  0.6130 - auc:  0.9950\n",
      "Epoch 3/10\n",
      "1s - loss:  0.4089 - binary_crossentropy:  0.4060 - auc:  0.9998\n",
      "Epoch 4/10\n",
      "1s - loss:  0.1309 - binary_crossentropy:  0.1300 - auc:  1.0000\n",
      "Epoch 5/10\n",
      "1s - loss:  0.0306 - binary_crossentropy:  0.0305 - auc:  1.0000\n",
      "Epoch 6/10\n",
      "1s - loss:  0.0117 - binary_crossentropy:  0.0116 - auc:  1.0000\n",
      "Epoch 7/10\n",
      "1s - loss:  0.0064 - binary_crossentropy:  0.0064 - auc:  1.0000\n",
      "Epoch 8/10\n",
      "1s - loss:  0.0042 - binary_crossentropy:  0.0042 - auc:  1.0000\n",
      "Epoch 9/10\n",
      "1s - loss:  0.0031 - binary_crossentropy:  0.0031 - auc:  1.0000\n",
      "Epoch 10/10\n",
      "1s - loss:  0.0024 - binary_crossentropy:  0.0024 - auc:  1.0000\n",
      "\n",
      "test LogLoss 0.4942\n",
      "test AUC 0.9215\n"
     ]
    }
   ],
   "source": [
    "# 4.Define Model,train,predict and evaluate\n",
    "device = 'cpu'\n",
    "use_cuda = True\n",
    "if use_cuda and torch.cuda.is_available():\n",
    "    print('cuda ready...')\n",
    "    device = 'cuda:0'\n",
    "\n",
    "model = DeepFM(linear_feature_columns=wide_feature_columns, dnn_feature_columns=deep_feature_columns,\n",
    "               task='binary',\n",
    "               l2_reg_embedding=1e-5, device=device)\n",
    "\n",
    "model.compile(\"adagrad\", \"binary_crossentropy\",\n",
    "              metrics=[\"binary_crossentropy\", \"auc\"], )\n",
    "model.fit(train_model_input,train[target].values,batch_size=32,epochs=10,verbose=2,validation_split=0.0)\n",
    "\n",
    "pred_ans = model.predict(test_model_input, 256)\n",
    "print(\"\")\n",
    "print(\"test LogLoss\", round(log_loss(test[target].values, pred_ans), 4))\n",
    "print(\"test AUC\", round(roc_auc_score(test[target].values, pred_ans), 4))"
   ]
  }
 ],
 "metadata": {
  "kernelspec": {
   "display_name": "hemingzhi_py36",
   "language": "python",
   "name": "py36"
  },
  "language_info": {
   "codemirror_mode": {
    "name": "ipython",
    "version": 3
   },
   "file_extension": ".py",
   "mimetype": "text/x-python",
   "name": "python",
   "nbconvert_exporter": "python",
   "pygments_lexer": "ipython3",
   "version": "3.6.13"
  }
 },
 "nbformat": 4,
 "nbformat_minor": 4
}
